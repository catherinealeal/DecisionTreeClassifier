{
 "cells": [
  {
   "cell_type": "markdown",
   "id": "edef554d",
   "metadata": {},
   "source": [
    "# Decision Tree Classifier "
   ]
  },
  {
   "cell_type": "code",
   "execution_count": 1,
   "id": "37097150",
   "metadata": {},
   "outputs": [],
   "source": [
    "import pandas as pd\n",
    "import numpy as np\n",
    "import matplotlib.pyplot as plt\n",
    "import math\n",
    "from math import log2\n",
    "from sklearn import tree \n",
    "import graphviz "
   ]
  },
  {
   "cell_type": "markdown",
   "id": "49883bfb",
   "metadata": {},
   "source": [
    "## Goal \n",
    "- Predict the 'Type' of home using a decision tree. \n",
    "- The stopping condition is the depth of the tree. \n",
    "- The impurity measure is either entropy or gini. "
   ]
  },
  {
   "cell_type": "markdown",
   "id": "19deccb6",
   "metadata": {},
   "source": [
    "## Data Import \n"
   ]
  },
  {
   "cell_type": "code",
   "execution_count": 2,
   "id": "521c0fca",
   "metadata": {},
   "outputs": [
    {
     "data": {
      "text/html": [
       "<div>\n",
       "<style scoped>\n",
       "    .dataframe tbody tr th:only-of-type {\n",
       "        vertical-align: middle;\n",
       "    }\n",
       "\n",
       "    .dataframe tbody tr th {\n",
       "        vertical-align: top;\n",
       "    }\n",
       "\n",
       "    .dataframe thead th {\n",
       "        text-align: right;\n",
       "    }\n",
       "</style>\n",
       "<table border=\"1\" class=\"dataframe\">\n",
       "  <thead>\n",
       "    <tr style=\"text-align: right;\">\n",
       "      <th></th>\n",
       "      <th>Rooms</th>\n",
       "      <th>Type</th>\n",
       "      <th>Price</th>\n",
       "      <th>Distance</th>\n",
       "      <th>Bedroom2</th>\n",
       "      <th>Bathroom</th>\n",
       "      <th>Car</th>\n",
       "      <th>Landsize</th>\n",
       "      <th>BuildingArea</th>\n",
       "      <th>YearBuilt</th>\n",
       "      <th>CouncilArea</th>\n",
       "    </tr>\n",
       "  </thead>\n",
       "  <tbody>\n",
       "    <tr>\n",
       "      <th>0</th>\n",
       "      <td>2</td>\n",
       "      <td>t</td>\n",
       "      <td>771000.0</td>\n",
       "      <td>13.8</td>\n",
       "      <td>2.0</td>\n",
       "      <td>1.0</td>\n",
       "      <td>1.0</td>\n",
       "      <td>0.0</td>\n",
       "      <td>99.0</td>\n",
       "      <td>1992.0</td>\n",
       "      <td>Bayside</td>\n",
       "    </tr>\n",
       "    <tr>\n",
       "      <th>1</th>\n",
       "      <td>3</td>\n",
       "      <td>t</td>\n",
       "      <td>700000.0</td>\n",
       "      <td>7.9</td>\n",
       "      <td>3.0</td>\n",
       "      <td>2.0</td>\n",
       "      <td>1.0</td>\n",
       "      <td>189.0</td>\n",
       "      <td>110.0</td>\n",
       "      <td>1990.0</td>\n",
       "      <td>Banyule</td>\n",
       "    </tr>\n",
       "    <tr>\n",
       "      <th>2</th>\n",
       "      <td>3</td>\n",
       "      <td>u</td>\n",
       "      <td>975000.0</td>\n",
       "      <td>12.1</td>\n",
       "      <td>3.0</td>\n",
       "      <td>2.0</td>\n",
       "      <td>1.0</td>\n",
       "      <td>277.0</td>\n",
       "      <td>109.0</td>\n",
       "      <td>1975.0</td>\n",
       "      <td>Glen Eira</td>\n",
       "    </tr>\n",
       "    <tr>\n",
       "      <th>3</th>\n",
       "      <td>3</td>\n",
       "      <td>h</td>\n",
       "      <td>1290000.0</td>\n",
       "      <td>8.0</td>\n",
       "      <td>3.0</td>\n",
       "      <td>1.0</td>\n",
       "      <td>1.0</td>\n",
       "      <td>618.0</td>\n",
       "      <td>132.0</td>\n",
       "      <td>1960.0</td>\n",
       "      <td>Moonee Valley</td>\n",
       "    </tr>\n",
       "    <tr>\n",
       "      <th>4</th>\n",
       "      <td>2</td>\n",
       "      <td>u</td>\n",
       "      <td>500000.0</td>\n",
       "      <td>4.2</td>\n",
       "      <td>2.0</td>\n",
       "      <td>1.0</td>\n",
       "      <td>1.0</td>\n",
       "      <td>0.0</td>\n",
       "      <td>86.0</td>\n",
       "      <td>2000.0</td>\n",
       "      <td>Melbourne</td>\n",
       "    </tr>\n",
       "  </tbody>\n",
       "</table>\n",
       "</div>"
      ],
      "text/plain": [
       "   Rooms Type      Price  Distance  Bedroom2  Bathroom  Car  Landsize  \\\n",
       "0      2    t   771000.0      13.8       2.0       1.0  1.0       0.0   \n",
       "1      3    t   700000.0       7.9       3.0       2.0  1.0     189.0   \n",
       "2      3    u   975000.0      12.1       3.0       2.0  1.0     277.0   \n",
       "3      3    h  1290000.0       8.0       3.0       1.0  1.0     618.0   \n",
       "4      2    u   500000.0       4.2       2.0       1.0  1.0       0.0   \n",
       "\n",
       "   BuildingArea  YearBuilt    CouncilArea  \n",
       "0          99.0     1992.0        Bayside  \n",
       "1         110.0     1990.0        Banyule  \n",
       "2         109.0     1975.0      Glen Eira  \n",
       "3         132.0     1960.0  Moonee Valley  \n",
       "4          86.0     2000.0      Melbourne  "
      ]
     },
     "execution_count": 2,
     "metadata": {},
     "output_type": "execute_result"
    }
   ],
   "source": [
    "df_train = pd.read_csv('https://gist.githubusercontent.com/yanyanzheng96/f8ba57f8377dee0810271475c728fca8/raw/afa3fa4305b55e31135980835d40b27af31f288c/melb_tree_train.csv')\n",
    "df_test = pd.read_csv('https://gist.githubusercontent.com/yanyanzheng96/ec66da011b165f0e282c0c1f8447010e/raw/d02c3829a7e9db2d156ba1ab9d5bb4d18ae57be8/melb_tree_test.csv')\n",
    "df_train.head(5)"
   ]
  },
  {
   "cell_type": "code",
   "execution_count": 3,
   "id": "0fda3d32",
   "metadata": {},
   "outputs": [],
   "source": [
    "df_X = df_train.drop('Type', axis=1) # everything but 'Type'\n",
    "s_y = df_train['Type'] # just 'Type'"
   ]
  },
  {
   "cell_type": "markdown",
   "id": "7f7cc9d5",
   "metadata": {},
   "source": [
    "## Create function to calculate entropy "
   ]
  },
  {
   "cell_type": "code",
   "execution_count": 4,
   "id": "9aa3ac91",
   "metadata": {},
   "outputs": [],
   "source": [
    "def calc_entropy(s_y):\n",
    "    counts = s_y.value_counts()\n",
    "    entropy = 0\n",
    "    for count in counts:\n",
    "        pi = count/len(s_y)\n",
    "        entropy -= pi * math.log2(pi)\n",
    "    return entropy"
   ]
  },
  {
   "cell_type": "code",
   "execution_count": 5,
   "id": "98954ea3",
   "metadata": {},
   "outputs": [
    {
     "data": {
      "text/plain": [
       "1.582533311426178"
      ]
     },
     "execution_count": 5,
     "metadata": {},
     "output_type": "execute_result"
    }
   ],
   "source": [
    "# entropy of entire dataset \n",
    "trainEnt = calc_entropy(s_y)\n",
    "trainEnt"
   ]
  },
  {
   "cell_type": "code",
   "execution_count": 6,
   "id": "e8f045f9",
   "metadata": {},
   "outputs": [
    {
     "data": {
      "text/plain": [
       "1.3456432116206725"
      ]
     },
     "execution_count": 6,
     "metadata": {},
     "output_type": "execute_result"
    }
   ],
   "source": [
    "# entropy of data with landsize less than or equal to 200\n",
    "part1 = df_train[df_train['Landsize'] <= 200]\n",
    "part1_s_y = part1['Type']\n",
    "part1_ent = calc_entropy(part1_s_y)\n",
    "part1_ent"
   ]
  },
  {
   "cell_type": "code",
   "execution_count": 7,
   "id": "56329549",
   "metadata": {},
   "outputs": [
    {
     "data": {
      "text/plain": [
       "1.4660501816027975"
      ]
     },
     "execution_count": 7,
     "metadata": {},
     "output_type": "execute_result"
    }
   ],
   "source": [
    "# entropy of data with landsize between 200 and 450\n",
    "part2 = df_train[df_train['Landsize'] <= 450]\n",
    "part2 = part2[part2['Landsize'] > 200]\n",
    "part2_s_y = part2['Type']\n",
    "part2_ent = calc_entropy(part2_s_y)\n",
    "part2_ent"
   ]
  },
  {
   "cell_type": "code",
   "execution_count": 8,
   "id": "8186b7b1",
   "metadata": {},
   "outputs": [
    {
     "data": {
      "text/plain": [
       "1.09954792005911"
      ]
     },
     "execution_count": 8,
     "metadata": {},
     "output_type": "execute_result"
    }
   ],
   "source": [
    "# entropy of data with landsize greater than 450\n",
    "part3 = df_train[df_train['Landsize'] > 450]\n",
    "part3_s_y = part3['Type']\n",
    "part3_ent = calc_entropy(part3_s_y)\n",
    "part3_ent"
   ]
  },
  {
   "cell_type": "markdown",
   "id": "370280e7",
   "metadata": {},
   "source": [
    "## Create function to calculate the gini index "
   ]
  },
  {
   "cell_type": "code",
   "execution_count": 9,
   "id": "d28178b1",
   "metadata": {},
   "outputs": [],
   "source": [
    "def calc_gini( s_y ):\n",
    "    counts = s_y.value_counts()\n",
    "    gini = 1\n",
    "    for count in counts:\n",
    "        pi = count/len(s_y)\n",
    "        gini -= pi**2\n",
    "    return gini"
   ]
  },
  {
   "cell_type": "code",
   "execution_count": 10,
   "id": "d9529f30",
   "metadata": {},
   "outputs": [
    {
     "data": {
      "text/plain": [
       "0.6655601280292637"
      ]
     },
     "execution_count": 10,
     "metadata": {},
     "output_type": "execute_result"
    }
   ],
   "source": [
    "# gini index of entire dataset \n",
    "trainGini = calc_gini(s_y)\n",
    "trainGini"
   ]
  },
  {
   "cell_type": "code",
   "execution_count": 11,
   "id": "6f0006ac",
   "metadata": {},
   "outputs": [
    {
     "data": {
      "text/plain": [
       "0.5741211482422965"
      ]
     },
     "execution_count": 11,
     "metadata": {},
     "output_type": "execute_result"
    }
   ],
   "source": [
    "# gini index of data with landsize less than or equal to 200\n",
    "part1_gini = calc_gini(part1_s_y)\n",
    "part1_gini"
   ]
  },
  {
   "cell_type": "code",
   "execution_count": 12,
   "id": "396b3911",
   "metadata": {},
   "outputs": [
    {
     "data": {
      "text/plain": [
       "0.6101021682602731"
      ]
     },
     "execution_count": 12,
     "metadata": {},
     "output_type": "execute_result"
    }
   ],
   "source": [
    "# gini index of data with landsize between 200 and 450\n",
    "part2_gini = calc_gini(part2_s_y)\n",
    "part2_gini"
   ]
  },
  {
   "cell_type": "code",
   "execution_count": 13,
   "id": "b9f09b9e",
   "metadata": {},
   "outputs": [
    {
     "data": {
      "text/plain": [
       "0.4381934171597633"
      ]
     },
     "execution_count": 13,
     "metadata": {},
     "output_type": "execute_result"
    }
   ],
   "source": [
    "# gini index of data with landsize greater than 450 \n",
    "part3_gini = calc_gini(part3_s_y)\n",
    "part3_gini"
   ]
  },
  {
   "cell_type": "markdown",
   "id": "9cdb3630",
   "metadata": {},
   "source": [
    "## Create a decision tree \n",
    "- Using scikit-learn to create a multi class classifer for the data set using the Entropy impurity measure and a max depth of 3.\n",
    "- The algorithm can only handle categorical data, so that needs to be preprocessed using an one hot encoding."
   ]
  },
  {
   "cell_type": "code",
   "execution_count": 14,
   "id": "f37613ce",
   "metadata": {},
   "outputs": [],
   "source": [
    "# One Hot Encoding\n",
    "encoded_y = pd.get_dummies(df_train['Type'], prefix='Type')\n",
    "x = df_train.drop(columns=['Type'])\n",
    "dummies = pd.get_dummies(df_train['CouncilArea'], prefix='CouncilArea')\n",
    "removed = df_train.drop(columns=['CouncilArea', 'Type'])\n",
    "encoded_x = pd.concat([dummies, removed], axis=1)"
   ]
  },
  {
   "cell_type": "code",
   "execution_count": 15,
   "id": "4a057646",
   "metadata": {},
   "outputs": [
    {
     "data": {
      "image/png": "[encoded data removed]",
      "text/plain": [
       "<Figure size 640x480 with 1 Axes>"
      ]
     },
     "metadata": {},
     "output_type": "display_data"
    }
   ],
   "source": [
    "# Create Tree\n",
    "clf = tree.DecisionTreeClassifier(criterion = 'entropy', max_depth = 3)\n",
    "clf = clf.fit(encoded_x, encoded_y)\n",
    "tree.plot_tree(clf);"
   ]
  },
  {
   "cell_type": "code",
   "execution_count": 16,
   "id": "56a15c78",
   "metadata": {},
   "outputs": [
    {
     "data": {
      "image/svg+xml": [
       "<?xml version=\"1.0\" encoding=\"UTF-8\" standalone=\"no\"?>\n",
       "<!DOCTYPE svg PUBLIC \"-//W3C//DTD SVG 1.1//EN\"\n",
       " \"http://www.w3.org/Graphics/SVG/1.1/DTD/svg11.dtd\">\n",
       "<!-- Generated by graphviz version 2.50.0 (0)\n",
       " -->\n",
       "<!-- Title: Tree Pages: 1 -->\n",
       "<svg width=\"1040pt\" height=\"493pt\"\n",
       " viewBox=\"0.00 0.00 1040.00 493.00\" xmlns=\"http://www.w3.org/2000/svg\" xmlns:xlink=\"http://www.w3.org/1999/xlink\">\n",
       "<g id=\"graph0\" class=\"graph\" transform=\"scale(1 1) rotate(0) translate(4 489)\">\n",
       "<title>Tree</title>\n",
       "<polygon fill=\"white\" stroke=\"transparent\" points=\"-4,4 -4,-489 1036,-489 1036,4 -4,4\"/>\n",
       "<!-- 0 -->\n",
       "<g id=\"node1\" class=\"node\">\n",
       "<title>0</title>\n",
       "<polygon fill=\"none\" stroke=\"black\" points=\"560,-485 417,-485 417,-387 560,-387 560,-485\"/>\n",
       "<text text-anchor=\"middle\" x=\"488.5\" y=\"-469.8\" font-family=\"Helvetica,sans-Serif\" font-size=\"14.00\">BuildingArea &lt;= 99.5</text>\n",
       "<text text-anchor=\"middle\" x=\"488.5\" y=\"-454.8\" font-family=\"Helvetica,sans-Serif\" font-size=\"14.00\">entropy = 0.917</text>\n",
       "<text text-anchor=\"middle\" x=\"488.5\" y=\"-439.8\" font-family=\"Helvetica,sans-Serif\" font-size=\"14.00\">samples = 810</text>\n",
       "<text text-anchor=\"middle\" x=\"488.5\" y=\"-424.8\" font-family=\"Helvetica,sans-Serif\" font-size=\"14.00\">value = [[562, 248]</text>\n",
       "<text text-anchor=\"middle\" x=\"488.5\" y=\"-409.8\" font-family=\"Helvetica,sans-Serif\" font-size=\"14.00\">[529, 281]</text>\n",
       "<text text-anchor=\"middle\" x=\"488.5\" y=\"-394.8\" font-family=\"Helvetica,sans-Serif\" font-size=\"14.00\">[529, 281]]</text>\n",
       "</g>\n",
       "<!-- 1 -->\n",
       "<g id=\"node2\" class=\"node\">\n",
       "<title>1</title>\n",
       "<polygon fill=\"none\" stroke=\"black\" points=\"474,-351 353,-351 353,-253 474,-253 474,-351\"/>\n",
       "<text text-anchor=\"middle\" x=\"413.5\" y=\"-335.8\" font-family=\"Helvetica,sans-Serif\" font-size=\"14.00\">Landsize &lt;= 76.0</text>\n",
       "<text text-anchor=\"middle\" x=\"413.5\" y=\"-320.8\" font-family=\"Helvetica,sans-Serif\" font-size=\"14.00\">entropy = 0.666</text>\n",
       "<text text-anchor=\"middle\" x=\"413.5\" y=\"-305.8\" font-family=\"Helvetica,sans-Serif\" font-size=\"14.00\">samples = 291</text>\n",
       "<text text-anchor=\"middle\" x=\"413.5\" y=\"-290.8\" font-family=\"Helvetica,sans-Serif\" font-size=\"14.00\">value = [[257, 34]</text>\n",
       "<text text-anchor=\"middle\" x=\"413.5\" y=\"-275.8\" font-family=\"Helvetica,sans-Serif\" font-size=\"14.00\">[245, 46]</text>\n",
       "<text text-anchor=\"middle\" x=\"413.5\" y=\"-260.8\" font-family=\"Helvetica,sans-Serif\" font-size=\"14.00\">[80, 211]]</text>\n",
       "</g>\n",
       "<!-- 0&#45;&gt;1 -->\n",
       "<g id=\"edge1\" class=\"edge\">\n",
       "<title>0&#45;&gt;1</title>\n",
       "<path fill=\"none\" stroke=\"black\" d=\"M461.21,-386.97C456.25,-378.24 451.03,-369.05 445.93,-360.08\"/>\n",
       "<polygon fill=\"black\" stroke=\"black\" points=\"448.88,-358.18 440.89,-351.21 442.79,-361.64 448.88,-358.18\"/>\n",
       "<text text-anchor=\"middle\" x=\"434.26\" y=\"-371.62\" font-family=\"Helvetica,sans-Serif\" font-size=\"14.00\">True</text>\n",
       "</g>\n",
       "<!-- 8 -->\n",
       "<g id=\"node9\" class=\"node\">\n",
       "<title>8</title>\n",
       "<polygon fill=\"none\" stroke=\"black\" points=\"673,-351 536,-351 536,-253 673,-253 673,-351\"/>\n",
       "<text text-anchor=\"middle\" x=\"604.5\" y=\"-335.8\" font-family=\"Helvetica,sans-Serif\" font-size=\"14.00\">YearBuilt &lt;= 1976.5</text>\n",
       "<text text-anchor=\"middle\" x=\"604.5\" y=\"-320.8\" font-family=\"Helvetica,sans-Serif\" font-size=\"14.00\">entropy = 0.847</text>\n",
       "<text text-anchor=\"middle\" x=\"604.5\" y=\"-305.8\" font-family=\"Helvetica,sans-Serif\" font-size=\"14.00\">samples = 519</text>\n",
       "<text text-anchor=\"middle\" x=\"604.5\" y=\"-290.8\" font-family=\"Helvetica,sans-Serif\" font-size=\"14.00\">value = [[305, 214]</text>\n",
       "<text text-anchor=\"middle\" x=\"604.5\" y=\"-275.8\" font-family=\"Helvetica,sans-Serif\" font-size=\"14.00\">[284, 235]</text>\n",
       "<text text-anchor=\"middle\" x=\"604.5\" y=\"-260.8\" font-family=\"Helvetica,sans-Serif\" font-size=\"14.00\">[449, 70]]</text>\n",
       "</g>\n",
       "<!-- 0&#45;&gt;8 -->\n",
       "<g id=\"edge8\" class=\"edge\">\n",
       "<title>0&#45;&gt;8</title>\n",
       "<path fill=\"none\" stroke=\"black\" d=\"M530.71,-386.97C538.7,-377.87 547.13,-368.28 555.32,-358.96\"/>\n",
       "<polygon fill=\"black\" stroke=\"black\" points=\"558.16,-361.04 562.13,-351.21 552.9,-356.42 558.16,-361.04\"/>\n",
       "<text text-anchor=\"middle\" x=\"563.74\" y=\"-372.46\" font-family=\"Helvetica,sans-Serif\" font-size=\"14.00\">False</text>\n",
       "</g>\n",
       "<!-- 2 -->\n",
       "<g id=\"node3\" class=\"node\">\n",
       "<title>2</title>\n",
       "<polygon fill=\"none\" stroke=\"black\" points=\"256,-217 113,-217 113,-119 256,-119 256,-217\"/>\n",
       "<text text-anchor=\"middle\" x=\"184.5\" y=\"-201.8\" font-family=\"Helvetica,sans-Serif\" font-size=\"14.00\">BuildingArea &lt;= 81.5</text>\n",
       "<text text-anchor=\"middle\" x=\"184.5\" y=\"-186.8\" font-family=\"Helvetica,sans-Serif\" font-size=\"14.00\">entropy = 0.258</text>\n",
       "<text text-anchor=\"middle\" x=\"184.5\" y=\"-171.8\" font-family=\"Helvetica,sans-Serif\" font-size=\"14.00\">samples = 141</text>\n",
       "<text text-anchor=\"middle\" x=\"184.5\" y=\"-156.8\" font-family=\"Helvetica,sans-Serif\" font-size=\"14.00\">value = [[140, 1]</text>\n",
       "<text text-anchor=\"middle\" x=\"184.5\" y=\"-141.8\" font-family=\"Helvetica,sans-Serif\" font-size=\"14.00\">[132, 9]</text>\n",
       "<text text-anchor=\"middle\" x=\"184.5\" y=\"-126.8\" font-family=\"Helvetica,sans-Serif\" font-size=\"14.00\">[10, 131]]</text>\n",
       "</g>\n",
       "<!-- 1&#45;&gt;2 -->\n",
       "<g id=\"edge2\" class=\"edge\">\n",
       "<title>1&#45;&gt;2</title>\n",
       "<path fill=\"none\" stroke=\"black\" d=\"M352.73,-265.97C325.83,-250.47 293.82,-232.01 264.97,-215.39\"/>\n",
       "<polygon fill=\"black\" stroke=\"black\" points=\"266.54,-212.25 256.13,-210.29 263.05,-218.32 266.54,-212.25\"/>\n",
       "</g>\n",
       "<!-- 5 -->\n",
       "<g id=\"node6\" class=\"node\">\n",
       "<title>5</title>\n",
       "<polygon fill=\"none\" stroke=\"black\" points=\"482,-217 345,-217 345,-119 482,-119 482,-217\"/>\n",
       "<text text-anchor=\"middle\" x=\"413.5\" y=\"-201.8\" font-family=\"Helvetica,sans-Serif\" font-size=\"14.00\">YearBuilt &lt;= 1957.5</text>\n",
       "<text text-anchor=\"middle\" x=\"413.5\" y=\"-186.8\" font-family=\"Helvetica,sans-Serif\" font-size=\"14.00\">entropy = 0.854</text>\n",
       "<text text-anchor=\"middle\" x=\"413.5\" y=\"-171.8\" font-family=\"Helvetica,sans-Serif\" font-size=\"14.00\">samples = 150</text>\n",
       "<text text-anchor=\"middle\" x=\"413.5\" y=\"-156.8\" font-family=\"Helvetica,sans-Serif\" font-size=\"14.00\">value = [[117, 33]</text>\n",
       "<text text-anchor=\"middle\" x=\"413.5\" y=\"-141.8\" font-family=\"Helvetica,sans-Serif\" font-size=\"14.00\">[113, 37]</text>\n",
       "<text text-anchor=\"middle\" x=\"413.5\" y=\"-126.8\" font-family=\"Helvetica,sans-Serif\" font-size=\"14.00\">[70, 80]]</text>\n",
       "</g>\n",
       "<!-- 1&#45;&gt;5 -->\n",
       "<g id=\"edge5\" class=\"edge\">\n",
       "<title>1&#45;&gt;5</title>\n",
       "<path fill=\"none\" stroke=\"black\" d=\"M413.5,-252.97C413.5,-244.69 413.5,-236 413.5,-227.48\"/>\n",
       "<polygon fill=\"black\" stroke=\"black\" points=\"417,-227.21 413.5,-217.21 410,-227.21 417,-227.21\"/>\n",
       "</g>\n",
       "<!-- 3 -->\n",
       "<g id=\"node4\" class=\"node\">\n",
       "<title>3</title>\n",
       "<polygon fill=\"none\" stroke=\"black\" points=\"113,-83 0,-83 0,0 113,0 113,-83\"/>\n",
       "<text text-anchor=\"middle\" x=\"56.5\" y=\"-67.8\" font-family=\"Helvetica,sans-Serif\" font-size=\"14.00\">entropy = 0.128</text>\n",
       "<text text-anchor=\"middle\" x=\"56.5\" y=\"-52.8\" font-family=\"Helvetica,sans-Serif\" font-size=\"14.00\">samples = 102</text>\n",
       "<text text-anchor=\"middle\" x=\"56.5\" y=\"-37.8\" font-family=\"Helvetica,sans-Serif\" font-size=\"14.00\">value = [[102, 0]</text>\n",
       "<text text-anchor=\"middle\" x=\"56.5\" y=\"-22.8\" font-family=\"Helvetica,sans-Serif\" font-size=\"14.00\">[99, 3]</text>\n",
       "<text text-anchor=\"middle\" x=\"56.5\" y=\"-7.8\" font-family=\"Helvetica,sans-Serif\" font-size=\"14.00\">[3, 99]]</text>\n",
       "</g>\n",
       "<!-- 2&#45;&gt;3 -->\n",
       "<g id=\"edge3\" class=\"edge\">\n",
       "<title>2&#45;&gt;3</title>\n",
       "<path fill=\"none\" stroke=\"black\" d=\"M135.01,-118.87C125.37,-109.49 115.26,-99.66 105.63,-90.29\"/>\n",
       "<polygon fill=\"black\" stroke=\"black\" points=\"107.98,-87.69 98.38,-83.23 103.1,-92.71 107.98,-87.69\"/>\n",
       "</g>\n",
       "<!-- 4 -->\n",
       "<g id=\"node5\" class=\"node\">\n",
       "<title>4</title>\n",
       "<polygon fill=\"none\" stroke=\"black\" points=\"237.5,-83 131.5,-83 131.5,0 237.5,0 237.5,-83\"/>\n",
       "<text text-anchor=\"middle\" x=\"184.5\" y=\"-67.8\" font-family=\"Helvetica,sans-Serif\" font-size=\"14.00\">entropy = 0.49</text>\n",
       "<text text-anchor=\"middle\" x=\"184.5\" y=\"-52.8\" font-family=\"Helvetica,sans-Serif\" font-size=\"14.00\">samples = 39</text>\n",
       "<text text-anchor=\"middle\" x=\"184.5\" y=\"-37.8\" font-family=\"Helvetica,sans-Serif\" font-size=\"14.00\">value = [[38, 1]</text>\n",
       "<text text-anchor=\"middle\" x=\"184.5\" y=\"-22.8\" font-family=\"Helvetica,sans-Serif\" font-size=\"14.00\">[33, 6]</text>\n",
       "<text text-anchor=\"middle\" x=\"184.5\" y=\"-7.8\" font-family=\"Helvetica,sans-Serif\" font-size=\"14.00\">[7, 32]]</text>\n",
       "</g>\n",
       "<!-- 2&#45;&gt;4 -->\n",
       "<g id=\"edge4\" class=\"edge\">\n",
       "<title>2&#45;&gt;4</title>\n",
       "<path fill=\"none\" stroke=\"black\" d=\"M184.5,-118.87C184.5,-110.5 184.5,-101.77 184.5,-93.33\"/>\n",
       "<polygon fill=\"black\" stroke=\"black\" points=\"188,-93.23 184.5,-83.23 181,-93.23 188,-93.23\"/>\n",
       "</g>\n",
       "<!-- 6 -->\n",
       "<g id=\"node7\" class=\"node\">\n",
       "<title>6</title>\n",
       "<polygon fill=\"none\" stroke=\"black\" points=\"369,-83 256,-83 256,0 369,0 369,-83\"/>\n",
       "<text text-anchor=\"middle\" x=\"312.5\" y=\"-67.8\" font-family=\"Helvetica,sans-Serif\" font-size=\"14.00\">entropy = 0.693</text>\n",
       "<text text-anchor=\"middle\" x=\"312.5\" y=\"-52.8\" font-family=\"Helvetica,sans-Serif\" font-size=\"14.00\">samples = 36</text>\n",
       "<text text-anchor=\"middle\" x=\"312.5\" y=\"-37.8\" font-family=\"Helvetica,sans-Serif\" font-size=\"14.00\">value = [[12, 24]</text>\n",
       "<text text-anchor=\"middle\" x=\"312.5\" y=\"-22.8\" font-family=\"Helvetica,sans-Serif\" font-size=\"14.00\">[34, 2]</text>\n",
       "<text text-anchor=\"middle\" x=\"312.5\" y=\"-7.8\" font-family=\"Helvetica,sans-Serif\" font-size=\"14.00\">[26, 10]]</text>\n",
       "</g>\n",
       "<!-- 5&#45;&gt;6 -->\n",
       "<g id=\"edge6\" class=\"edge\">\n",
       "<title>5&#45;&gt;6</title>\n",
       "<path fill=\"none\" stroke=\"black\" d=\"M374.45,-118.87C367.07,-109.76 359.34,-100.23 351.94,-91.12\"/>\n",
       "<polygon fill=\"black\" stroke=\"black\" points=\"354.56,-88.79 345.54,-83.23 349.12,-93.2 354.56,-88.79\"/>\n",
       "</g>\n",
       "<!-- 7 -->\n",
       "<g id=\"node8\" class=\"node\">\n",
       "<title>7</title>\n",
       "<polygon fill=\"none\" stroke=\"black\" points=\"500,-83 387,-83 387,0 500,0 500,-83\"/>\n",
       "<text text-anchor=\"middle\" x=\"443.5\" y=\"-67.8\" font-family=\"Helvetica,sans-Serif\" font-size=\"14.00\">entropy = 0.75</text>\n",
       "<text text-anchor=\"middle\" x=\"443.5\" y=\"-52.8\" font-family=\"Helvetica,sans-Serif\" font-size=\"14.00\">samples = 114</text>\n",
       "<text text-anchor=\"middle\" x=\"443.5\" y=\"-37.8\" font-family=\"Helvetica,sans-Serif\" font-size=\"14.00\">value = [[105, 9]</text>\n",
       "<text text-anchor=\"middle\" x=\"443.5\" y=\"-22.8\" font-family=\"Helvetica,sans-Serif\" font-size=\"14.00\">[79, 35]</text>\n",
       "<text text-anchor=\"middle\" x=\"443.5\" y=\"-7.8\" font-family=\"Helvetica,sans-Serif\" font-size=\"14.00\">[44, 70]]</text>\n",
       "</g>\n",
       "<!-- 5&#45;&gt;7 -->\n",
       "<g id=\"edge7\" class=\"edge\">\n",
       "<title>5&#45;&gt;7</title>\n",
       "<path fill=\"none\" stroke=\"black\" d=\"M425.1,-118.87C427.14,-110.41 429.26,-101.58 431.32,-93.06\"/>\n",
       "<polygon fill=\"black\" stroke=\"black\" points=\"434.75,-93.77 433.69,-83.23 427.94,-92.13 434.75,-93.77\"/>\n",
       "</g>\n",
       "<!-- 9 -->\n",
       "<g id=\"node10\" class=\"node\">\n",
       "<title>9</title>\n",
       "<polygon fill=\"none\" stroke=\"black\" points=\"668.5,-217 540.5,-217 540.5,-119 668.5,-119 668.5,-217\"/>\n",
       "<text text-anchor=\"middle\" x=\"604.5\" y=\"-201.8\" font-family=\"Helvetica,sans-Serif\" font-size=\"14.00\">Landsize &lt;= 429.0</text>\n",
       "<text text-anchor=\"middle\" x=\"604.5\" y=\"-186.8\" font-family=\"Helvetica,sans-Serif\" font-size=\"14.00\">entropy = 0.535</text>\n",
       "<text text-anchor=\"middle\" x=\"604.5\" y=\"-171.8\" font-family=\"Helvetica,sans-Serif\" font-size=\"14.00\">samples = 204</text>\n",
       "<text text-anchor=\"middle\" x=\"604.5\" y=\"-156.8\" font-family=\"Helvetica,sans-Serif\" font-size=\"14.00\">value = [[39, 165]</text>\n",
       "<text text-anchor=\"middle\" x=\"604.5\" y=\"-141.8\" font-family=\"Helvetica,sans-Serif\" font-size=\"14.00\">[189, 15]</text>\n",
       "<text text-anchor=\"middle\" x=\"604.5\" y=\"-126.8\" font-family=\"Helvetica,sans-Serif\" font-size=\"14.00\">[180, 24]]</text>\n",
       "</g>\n",
       "<!-- 8&#45;&gt;9 -->\n",
       "<g id=\"edge9\" class=\"edge\">\n",
       "<title>8&#45;&gt;9</title>\n",
       "<path fill=\"none\" stroke=\"black\" d=\"M604.5,-252.97C604.5,-244.69 604.5,-236 604.5,-227.48\"/>\n",
       "<polygon fill=\"black\" stroke=\"black\" points=\"608,-227.21 604.5,-217.21 601,-227.21 608,-227.21\"/>\n",
       "</g>\n",
       "<!-- 12 -->\n",
       "<g id=\"node13\" class=\"node\">\n",
       "<title>12</title>\n",
       "<polygon fill=\"none\" stroke=\"black\" points=\"904.5,-217 776.5,-217 776.5,-119 904.5,-119 904.5,-217\"/>\n",
       "<text text-anchor=\"middle\" x=\"840.5\" y=\"-201.8\" font-family=\"Helvetica,sans-Serif\" font-size=\"14.00\">Landsize &lt;= 443.5</text>\n",
       "<text text-anchor=\"middle\" x=\"840.5\" y=\"-186.8\" font-family=\"Helvetica,sans-Serif\" font-size=\"14.00\">entropy = 0.702</text>\n",
       "<text text-anchor=\"middle\" x=\"840.5\" y=\"-171.8\" font-family=\"Helvetica,sans-Serif\" font-size=\"14.00\">samples = 315</text>\n",
       "<text text-anchor=\"middle\" x=\"840.5\" y=\"-156.8\" font-family=\"Helvetica,sans-Serif\" font-size=\"14.00\">value = [[266, 49]</text>\n",
       "<text text-anchor=\"middle\" x=\"840.5\" y=\"-141.8\" font-family=\"Helvetica,sans-Serif\" font-size=\"14.00\">[95, 220]</text>\n",
       "<text text-anchor=\"middle\" x=\"840.5\" y=\"-126.8\" font-family=\"Helvetica,sans-Serif\" font-size=\"14.00\">[269, 46]]</text>\n",
       "</g>\n",
       "<!-- 8&#45;&gt;12 -->\n",
       "<g id=\"edge12\" class=\"edge\">\n",
       "<title>8&#45;&gt;12</title>\n",
       "<path fill=\"none\" stroke=\"black\" d=\"M673.08,-262.64C702.68,-246.08 737.35,-226.69 767.44,-209.86\"/>\n",
       "<polygon fill=\"black\" stroke=\"black\" points=\"769.19,-212.9 776.21,-204.96 765.77,-206.79 769.19,-212.9\"/>\n",
       "</g>\n",
       "<!-- 10 -->\n",
       "<g id=\"node11\" class=\"node\">\n",
       "<title>10</title>\n",
       "<polygon fill=\"none\" stroke=\"black\" points=\"631,-83 518,-83 518,0 631,0 631,-83\"/>\n",
       "<text text-anchor=\"middle\" x=\"574.5\" y=\"-67.8\" font-family=\"Helvetica,sans-Serif\" font-size=\"14.00\">entropy = 0.793</text>\n",
       "<text text-anchor=\"middle\" x=\"574.5\" y=\"-52.8\" font-family=\"Helvetica,sans-Serif\" font-size=\"14.00\">samples = 84</text>\n",
       "<text text-anchor=\"middle\" x=\"574.5\" y=\"-37.8\" font-family=\"Helvetica,sans-Serif\" font-size=\"14.00\">value = [[33, 51]</text>\n",
       "<text text-anchor=\"middle\" x=\"574.5\" y=\"-22.8\" font-family=\"Helvetica,sans-Serif\" font-size=\"14.00\">[71, 13]</text>\n",
       "<text text-anchor=\"middle\" x=\"574.5\" y=\"-7.8\" font-family=\"Helvetica,sans-Serif\" font-size=\"14.00\">[64, 20]]</text>\n",
       "</g>\n",
       "<!-- 9&#45;&gt;10 -->\n",
       "<g id=\"edge10\" class=\"edge\">\n",
       "<title>9&#45;&gt;10</title>\n",
       "<path fill=\"none\" stroke=\"black\" d=\"M592.9,-118.87C590.86,-110.41 588.74,-101.58 586.68,-93.06\"/>\n",
       "<polygon fill=\"black\" stroke=\"black\" points=\"590.06,-92.13 584.31,-83.23 583.25,-93.77 590.06,-92.13\"/>\n",
       "</g>\n",
       "<!-- 11 -->\n",
       "<g id=\"node12\" class=\"node\">\n",
       "<title>11</title>\n",
       "<polygon fill=\"none\" stroke=\"black\" points=\"762,-83 649,-83 649,0 762,0 762,-83\"/>\n",
       "<text text-anchor=\"middle\" x=\"705.5\" y=\"-67.8\" font-family=\"Helvetica,sans-Serif\" font-size=\"14.00\">entropy = 0.207</text>\n",
       "<text text-anchor=\"middle\" x=\"705.5\" y=\"-52.8\" font-family=\"Helvetica,sans-Serif\" font-size=\"14.00\">samples = 120</text>\n",
       "<text text-anchor=\"middle\" x=\"705.5\" y=\"-37.8\" font-family=\"Helvetica,sans-Serif\" font-size=\"14.00\">value = [[6, 114]</text>\n",
       "<text text-anchor=\"middle\" x=\"705.5\" y=\"-22.8\" font-family=\"Helvetica,sans-Serif\" font-size=\"14.00\">[118, 2]</text>\n",
       "<text text-anchor=\"middle\" x=\"705.5\" y=\"-7.8\" font-family=\"Helvetica,sans-Serif\" font-size=\"14.00\">[116, 4]]</text>\n",
       "</g>\n",
       "<!-- 9&#45;&gt;11 -->\n",
       "<g id=\"edge11\" class=\"edge\">\n",
       "<title>9&#45;&gt;11</title>\n",
       "<path fill=\"none\" stroke=\"black\" d=\"M643.55,-118.87C650.93,-109.76 658.66,-100.23 666.06,-91.12\"/>\n",
       "<polygon fill=\"black\" stroke=\"black\" points=\"668.88,-93.2 672.46,-83.23 663.44,-88.79 668.88,-93.2\"/>\n",
       "</g>\n",
       "<!-- 13 -->\n",
       "<g id=\"node14\" class=\"node\">\n",
       "<title>13</title>\n",
       "<polygon fill=\"none\" stroke=\"black\" points=\"901,-83 780,-83 780,0 901,0 901,-83\"/>\n",
       "<text text-anchor=\"middle\" x=\"840.5\" y=\"-67.8\" font-family=\"Helvetica,sans-Serif\" font-size=\"14.00\">entropy = 0.589</text>\n",
       "<text text-anchor=\"middle\" x=\"840.5\" y=\"-52.8\" font-family=\"Helvetica,sans-Serif\" font-size=\"14.00\">samples = 270</text>\n",
       "<text text-anchor=\"middle\" x=\"840.5\" y=\"-37.8\" font-family=\"Helvetica,sans-Serif\" font-size=\"14.00\">value = [[250, 20]</text>\n",
       "<text text-anchor=\"middle\" x=\"840.5\" y=\"-22.8\" font-family=\"Helvetica,sans-Serif\" font-size=\"14.00\">[61, 209]</text>\n",
       "<text text-anchor=\"middle\" x=\"840.5\" y=\"-7.8\" font-family=\"Helvetica,sans-Serif\" font-size=\"14.00\">[229, 41]]</text>\n",
       "</g>\n",
       "<!-- 12&#45;&gt;13 -->\n",
       "<g id=\"edge13\" class=\"edge\">\n",
       "<title>12&#45;&gt;13</title>\n",
       "<path fill=\"none\" stroke=\"black\" d=\"M840.5,-118.87C840.5,-110.5 840.5,-101.77 840.5,-93.33\"/>\n",
       "<polygon fill=\"black\" stroke=\"black\" points=\"844,-93.23 840.5,-83.23 837,-93.23 844,-93.23\"/>\n",
       "</g>\n",
       "<!-- 14 -->\n",
       "<g id=\"node15\" class=\"node\">\n",
       "<title>14</title>\n",
       "<polygon fill=\"none\" stroke=\"black\" points=\"1032,-83 919,-83 919,0 1032,0 1032,-83\"/>\n",
       "<text text-anchor=\"middle\" x=\"975.5\" y=\"-67.8\" font-family=\"Helvetica,sans-Serif\" font-size=\"14.00\">entropy = 0.748</text>\n",
       "<text text-anchor=\"middle\" x=\"975.5\" y=\"-52.8\" font-family=\"Helvetica,sans-Serif\" font-size=\"14.00\">samples = 45</text>\n",
       "<text text-anchor=\"middle\" x=\"975.5\" y=\"-37.8\" font-family=\"Helvetica,sans-Serif\" font-size=\"14.00\">value = [[16, 29]</text>\n",
       "<text text-anchor=\"middle\" x=\"975.5\" y=\"-22.8\" font-family=\"Helvetica,sans-Serif\" font-size=\"14.00\">[34, 11]</text>\n",
       "<text text-anchor=\"middle\" x=\"975.5\" y=\"-7.8\" font-family=\"Helvetica,sans-Serif\" font-size=\"14.00\">[40, 5]]</text>\n",
       "</g>\n",
       "<!-- 12&#45;&gt;14 -->\n",
       "<g id=\"edge14\" class=\"edge\">\n",
       "<title>12&#45;&gt;14</title>\n",
       "<path fill=\"none\" stroke=\"black\" d=\"M892.69,-118.87C902.96,-109.39 913.73,-99.46 923.98,-90.01\"/>\n",
       "<polygon fill=\"black\" stroke=\"black\" points=\"926.36,-92.58 931.33,-83.23 921.61,-87.44 926.36,-92.58\"/>\n",
       "</g>\n",
       "</g>\n",
       "</svg>\n"
      ],
      "text/plain": [
       "<graphviz.sources.Source at 0x7fb04211a700>"
      ]
     },
     "execution_count": 16,
     "metadata": {},
     "output_type": "execute_result"
    }
   ],
   "source": [
    "# Display graphviz version of the tree\n",
    "dot_data = tree.export_graphviz(clf, out_file=None, feature_names = encoded_x.columns)\n",
    "graph = graphviz.Source(dot_data)\n",
    "graph.render(\"decision_tree\")\n",
    "graph"
   ]
  },
  {
   "cell_type": "markdown",
   "id": "bf88fb6b",
   "metadata": {},
   "source": [
    "- The type of building is most correlated to the landsize, year built, and building area. These are the attributes on which the tree was built, using them as the splitting conditions for child nodes. "
   ]
  },
  {
   "cell_type": "markdown",
   "id": "d154e934",
   "metadata": {},
   "source": [
    "## Calculate the Accuracy and Display Learning Curve\n",
    "- Using the scikit-learn library to create many decision trees, each one with a different configuration (aka hyperparameters)\n",
    "- Creating 28 different trees by:\n",
    "   - Varying the max depth from 2 to 15 with the Gini Index as the impurity measure\n",
    "   - Varying the max depth from 2 to 15 with the Entropy as the impurity measure\n",
    "- For each of the 28 decistion trees, calculat the error rate by using the data in the training set and test set. "
   ]
  },
  {
   "cell_type": "code",
   "execution_count": 17,
   "id": "8fccb6b3",
   "metadata": {},
   "outputs": [],
   "source": [
    "# Load in the test data\n",
    "encoded_y_test = pd.get_dummies(df_test['Type'], prefix='Type')\n",
    "x = df_test.drop(columns=['Type'])\n",
    "dummies = pd.get_dummies(df_test['CouncilArea'], prefix='CouncilArea')\n",
    "removed = df_test.drop(columns=['CouncilArea', 'Type'])\n",
    "encoded_x_test = pd.concat([dummies, removed], axis=1)"
   ]
  },
  {
   "cell_type": "code",
   "execution_count": 18,
   "id": "aeed0b79",
   "metadata": {},
   "outputs": [],
   "source": [
    "# Build the trees using the training data\n",
    "treesG = []\n",
    "treesE = []\n",
    "for depth in range(2,16):\n",
    "    clfG = tree.DecisionTreeClassifier(criterion = 'gini', max_depth = depth)\n",
    "    clfG = clfG.fit(encoded_x, encoded_y)\n",
    "    clfE = tree.DecisionTreeClassifier(criterion = 'entropy', max_depth = depth)\n",
    "    clfE = clfE.fit(encoded_x, encoded_y)\n",
    "    treesG += [clfG]\n",
    "    treesE += [clfE]\n",
    "\n",
    "trainErrorGs = []\n",
    "trainErrorEs = []\n",
    "testErrorGs = []\n",
    "testErrorEs = []\n",
    "for i in range(14):\n",
    "    trainErrorG = 1 - treesG[i].score(encoded_x, encoded_y)\n",
    "    trainErrorE = 1 - treesE[i].score(encoded_x, encoded_y)\n",
    "    testErrorG = 1 - treesG[i].score(encoded_x_test, encoded_y_test)\n",
    "    testErrorE = 1 - treesE[i].score(encoded_x_test, encoded_y_test)\n",
    "    trainErrorGs += [trainErrorG]\n",
    "    trainErrorEs += [trainErrorE]\n",
    "    testErrorGs += [testErrorG]\n",
    "    testErrorEs += [testErrorE]\n",
    "\n",
    "depths = np.arange(2,16,1)"
   ]
  },
  {
   "cell_type": "code",
   "execution_count": 19,
   "id": "ae742fea",
   "metadata": {},
   "outputs": [
    {
     "data": {
      "text/plain": [
       "Text(0.5, 1.0, 'Error Rates of Trees with Different Depths and Impurity Measures')"
      ]
     },
     "execution_count": 19,
     "metadata": {},
     "output_type": "execute_result"
    },
    {
     "data": {
      "image/png": "[encoded data removed]",
      "text/plain": [
       "<Figure size 640x480 with 1 Axes>"
      ]
     },
     "metadata": {},
     "output_type": "display_data"
    }
   ],
   "source": [
    "# Plot the 4 learning curves\n",
    "plt.plot(depths, trainErrorGs, color='red', label='Train Error (Gini)')\n",
    "plt.plot(depths, trainErrorEs, color='blue', label='Train Error (Entropy)')\n",
    "plt.plot(depths, testErrorGs, color='green', label='Test Error (Gini)')\n",
    "plt.plot(depths, testErrorEs, color='purple', label='Test Error (Entropy)')\n",
    "\n",
    "plt.legend()\n",
    "plt.xlabel('Max Depth')\n",
    "plt.ylabel('Error')\n",
    "plt.title('Error Rates of Trees with Different Depths and Impurity Measures')"
   ]
  },
  {
   "cell_type": "markdown",
   "id": "ce17c9ef",
   "metadata": {},
   "source": [
    "## Conclusion \n",
    "- From this plot, it can be seen that the error rates of the training data (regardless of the impurity measure) have signifigantly lower error rates as compared to the testing data error rates as max depth increases. This trend makes sense because a tree trained on a certain dataset should work better on that specific dataset then it would on a new dataset on which it was not trained. \n",
    "- Looking at the difference between the test data errors for the gini and entropy measures, it can be seen that the trees using entropy as the impurity measure have lower errors rates than trees using gini. "
   ]
  }
 ],
 "metadata": {
  "kernelspec": {
   "display_name": "Python 3 (ipykernel)",
   "language": "python",
   "name": "python3"
  },
  "language_info": {
   "codemirror_mode": {
    "name": "ipython",
    "version": 3
   },
   "file_extension": ".py",
   "mimetype": "text/x-python",
   "name": "python",
   "nbconvert_exporter": "python",
   "pygments_lexer": "ipython3",
   "version": "3.9.13"
  }
 },
 "nbformat": 4,
 "nbformat_minor": 5
}
